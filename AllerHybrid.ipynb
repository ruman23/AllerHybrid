{
 "cells": [
  {
   "cell_type": "markdown",
   "metadata": {
    "id": "b54pU67vBglv"
   },
   "source": [
    "Import library"
   ]
  },
  {
   "cell_type": "code",
   "execution_count": 1,
   "metadata": {
    "id": "B6AqBg65JtVN"
   },
   "outputs": [],
   "source": [
    "import numpy as np\n",
    "import matplotlib.pyplot as plt\n",
    "import pandas as pd\n",
    "from collections import Counter"
   ]
  },
  {
   "cell_type": "code",
   "execution_count": 2,
   "metadata": {
    "id": "Rjer36qEK64Y"
   },
   "outputs": [
    {
     "name": "stdout",
     "output_type": "stream",
     "text": [
      "   Unnamed: 0                                           Sequence  isAllergen\n",
      "0           0  AVTPMSADQLALFKSSWNTVKHNEVDILYAVFKANPDIQAKFPQFA...           1\n",
      "1           1  MSWQAYVDDHLMCDVGDGNTPASAAIIGHDGSVWAQSANFPQLKPE...           1\n",
      "2           2  ITCGQVSSNLAPCINYVKGGGAVPPACCNGIRNVNNLARTTADRRA...           1\n",
      "3           3  MAISTAMKLSLVALLCIVVALPIAQAITCGQVASSISPCVNYVKSG...           1\n",
      "4           4  MKLCILAVAVFVVAVSAQGPPPLPPFVANAPPAVQAEFRQLANGAP...           1\n",
      "      Unnamed: 0                                           Sequence  \\\n",
      "4424        2422  AVDLYTQAITMSPKNPELFADRAQANIKLNYFTEAVVDANKAIELD...   \n",
      "4425        2423  MALSSTSTTNSLLPNRSLVQNQPLLPSPLKNAFFSNNSTKTVRFVQ...   \n",
      "4426        2424                                        VLLPEYGGTQV   \n",
      "4427        2425  QQIPRDVQQCCNQLEQIQDPQCRCEGLMKVVQQEEQTGKVQGRQRQ...   \n",
      "4428        2426  MADQLTEDQISEFKEAFSLFDKDGDGCITTKELGTVMRSLGQNPTE...   \n",
      "\n",
      "      isAllergen  \n",
      "4424          -1  \n",
      "4425          -1  \n",
      "4426          -1  \n",
      "4427          -1  \n",
      "4428          -1  \n",
      "4429\n"
     ]
    }
   ],
   "source": [
    "k_mer = 6\n",
    "\n",
    "fullDataSet = pd.read_csv('AllerginDataFinal.csv')\n",
    "dataFrame = pd.DataFrame(fullDataSet)\n",
    "\n",
    "totalData = len(dataFrame)\n",
    "# for i in range(totalData):\n",
    "#     if dataFrame.loc[i,'isAllergen'] == -1:\n",
    "#         dataFrame.at[i,'isAllergen'] = 0\n",
    "\n",
    "print(dataFrame.head())\n",
    "print(dataFrame.tail())\n",
    "print(totalData)"
   ]
  },
  {
   "cell_type": "markdown",
   "metadata": {
    "id": "UQnLegRBCBmP"
   },
   "source": [
    "Method fod creating kmers\n"
   ]
  },
  {
   "cell_type": "code",
   "execution_count": 3,
   "metadata": {
    "id": "Oz44RAizPQqz"
   },
   "outputs": [],
   "source": [
    "def getKMers(sequence, ksize):\n",
    "    kmers = []\n",
    "    n_kmers = len(sequence) - ksize + 1\n",
    "\n",
    "    for i in range(n_kmers):\n",
    "        kmer = sequence[i:i + ksize]\n",
    "        kmers.append(kmer)\n",
    "    return kmers"
   ]
  },
  {
   "cell_type": "markdown",
   "metadata": {
    "id": "jjTDYNTWCFJd"
   },
   "source": [
    "generate kmers for allergen"
   ]
  },
  {
   "cell_type": "code",
   "execution_count": 4,
   "metadata": {
    "id": "-tBI7LjWN8JH"
   },
   "outputs": [],
   "source": [
    "len_seq = []\n",
    "for row in range(totalData) :\n",
    "  sequence = dataFrame.loc[row, \"Sequence\"]\n",
    "  kMers = getKMers(sequence, k_mer)\n",
    "  dataFrame.loc[row, 'kmers'] = ' '.join(kMers)\n",
    "  len_seq.append(len(sequence))"
   ]
  },
  {
   "cell_type": "code",
   "execution_count": 5,
   "metadata": {
    "id": "I72B3qOp6N6M"
   },
   "outputs": [],
   "source": [
    "from sklearn.feature_extraction.text import CountVectorizer\n",
    "vectorizer = CountVectorizer(max_features = 200000, dtype=np.float64) #max_features = 10000\n",
    "kmersCorpus = dataFrame['kmers']\n",
    "X = vectorizer.fit_transform(kmersCorpus).toarray()\n",
    "y = dataFrame['isAllergen']"
   ]
  },
  {
   "cell_type": "code",
   "execution_count": 6,
   "metadata": {
    "id": "Yfv4x13C_7wx"
   },
   "outputs": [
    {
     "name": "stderr",
     "output_type": "stream",
     "text": [
      "/var/folders/6_/xv_wk6qn5k9g5yztczrn0zlh0000gn/T/ipykernel_1032/1196936956.py:2: RuntimeWarning: invalid value encountered in true_divide\n",
      "  X[i] /= (len_seq[i] - k_mer + 1)\n"
     ]
    },
    {
     "name": "stdout",
     "output_type": "stream",
     "text": [
      "False\n",
      "{0.0, 0.00684931506849315}\n"
     ]
    }
   ],
   "source": [
    "for i in range(X.shape[0]):\n",
    "    X[i] /= (len_seq[i] - k_mer + 1)\n",
    "X[np.isnan(X)] = 0\n",
    "print(np.any(np.isnan(X)))\n",
    "print(set(X[0]))"
   ]
  },
  {
   "cell_type": "markdown",
   "metadata": {},
   "source": [
    "Splitting the dataset into the Training set and Test set"
   ]
  },
  {
   "cell_type": "code",
   "execution_count": 7,
   "metadata": {},
   "outputs": [
    {
     "name": "stdout",
     "output_type": "stream",
     "text": [
      "{0.0, 0.006896551724137931}\n"
     ]
    }
   ],
   "source": [
    "from sklearn.model_selection import train_test_split\n",
    "X_train, X_test, y_train, y_test = train_test_split(X, y, test_size=0.1, random_state=42)\n",
    "print(set(X_train[10]))"
   ]
  },
  {
   "cell_type": "markdown",
   "metadata": {},
   "source": [
    "SVM"
   ]
  },
  {
   "cell_type": "code",
   "execution_count": 8,
   "metadata": {},
   "outputs": [
    {
     "data": {
      "text/plain": [
       "SVC()"
      ]
     },
     "execution_count": 8,
     "metadata": {},
     "output_type": "execute_result"
    }
   ],
   "source": [
    "from sklearn import svm\n",
    "clf = svm.SVC()\n",
    "clf.fit(X_train, y_train)"
   ]
  },
  {
   "cell_type": "code",
   "execution_count": 9,
   "metadata": {},
   "outputs": [
    {
     "name": "stdout",
     "output_type": "stream",
     "text": [
      "[[199  12]\n",
      " [ 44 188]]\n"
     ]
    },
    {
     "data": {
      "text/plain": [
       "0.873589164785553"
      ]
     },
     "execution_count": 9,
     "metadata": {},
     "output_type": "execute_result"
    }
   ],
   "source": [
    "from sklearn.metrics import confusion_matrix, accuracy_score\n",
    "svm_y_pred = clf.predict(X_test)\n",
    "cm = confusion_matrix(y_test, svm_y_pred)\n",
    "print(cm)\n",
    "accuracy_score(y_test, svm_y_pred)"
   ]
  },
  {
   "cell_type": "code",
   "execution_count": 10,
   "metadata": {
    "scrolled": true
   },
   "outputs": [
    {
     "name": "stdout",
     "output_type": "stream",
     "text": [
      "   Unnamed: 0                                           Sequence  isAllergen  \\\n",
      "0           0  AVTPMSADQLALFKSSWNTVKHNEVDILYAVFKANPDIQAKFPQFA...           1   \n",
      "1           1  MSWQAYVDDHLMCDVGDGNTPASAAIIGHDGSVWAQSANFPQLKPE...           1   \n",
      "2           2  ITCGQVSSNLAPCINYVKGGGAVPPACCNGIRNVNNLARTTADRRA...           1   \n",
      "3           3  MAISTAMKLSLVALLCIVVALPIAQAITCGQVASSISPCVNYVKSG...           1   \n",
      "4           4  MKLCILAVAVFVVAVSAQGPPPLPPFVANAPPAVQAEFRQLANGAP...           1   \n",
      "\n",
      "                                               kmers  svmScore  \n",
      "0  AVTPMS VTPMSA TPMSAD PMSADQ MSADQL SADQLA ADQL...  0.942371  \n",
      "1  MSWQAY SWQAYV WQAYVD QAYVDD AYVDDH YVDDHL VDDH...  1.032991  \n",
      "2  ITCGQV TCGQVS CGQVSS GQVSSN QVSSNL VSSNLA SSNL...  0.999735  \n",
      "3  MAISTA AISTAM ISTAMK STAMKL TAMKLS AMKLSL MKLS...  1.000249  \n",
      "4  MKLCIL KLCILA LCILAV CILAVA ILAVAV LAVAVF AVAV... -0.266419  \n"
     ]
    }
   ],
   "source": [
    "svmScore = clf.decision_function(X)\n",
    "dataFrame['svmScore'] = svmScore\n",
    "print(dataFrame.head())"
   ]
  },
  {
   "cell_type": "code",
   "execution_count": 11,
   "metadata": {},
   "outputs": [],
   "source": [
    "# from sklearn.naive_bayes import GaussianNB\n",
    "# clfNb = GaussianNB()\n",
    "# clfNb.fit(X_train, y_train)\n",
    "# y_predNb = clfNb.predict(X)\n",
    "# dataFrame['nbScore'] = y_predNb"
   ]
  },
  {
   "cell_type": "code",
   "execution_count": 12,
   "metadata": {},
   "outputs": [],
   "source": [
    "# from sklearn.linear_model import LogisticRegression\n",
    "# from sklearn.linear_model import LinearRegression\n",
    "# clfNB = LinearRegression()\n",
    "# clfNB.fit(X_train, y_train)\n",
    "\n",
    "# y_pred = clfNB.predict(X_test)\n",
    "# # cm = confusion_matrix(y_test, y_pred)\n",
    "# # print(cm)\n",
    "# # accuracy_score(y_test, y_pred)\n",
    "# print(y_pred)"
   ]
  },
  {
   "cell_type": "code",
   "execution_count": 13,
   "metadata": {},
   "outputs": [],
   "source": [
    "# regressionScore = clfNB.score(X_test, y_test)\n",
    "# # dataFrame['regScore'] = regressionScore\n",
    "# # print(dataFrame.head())\n",
    "# # print(dataFrame.tail())\n",
    "# print(regressionScore)"
   ]
  },
  {
   "cell_type": "code",
   "execution_count": null,
   "metadata": {},
   "outputs": [],
   "source": []
  },
  {
   "cell_type": "code",
   "execution_count": 14,
   "metadata": {},
   "outputs": [
    {
     "name": "stdout",
     "output_type": "stream",
     "text": [
      "   Unnamed: 0                                           Sequence  isAllergen  \\\n",
      "0           0  AVTPMSADQLALFKSSWNTVKHNEVDILYAVFKANPDIQAKFPQFA...           1   \n",
      "1           1  MSWQAYVDDHLMCDVGDGNTPASAAIIGHDGSVWAQSANFPQLKPE...           1   \n",
      "\n",
      "                                               kmers  svmScore  \n",
      "0  AVTPMS VTPMSA TPMSAD PMSADQ MSADQL SADQLA ADQL...  0.942371  \n",
      "1  MSWQAY SWQAYV WQAYVD QAYVDD AYVDDH YVDDHL VDDH...  1.032991  \n",
      "   Unnamed: 0                                           Sequence  isAllergen  \\\n",
      "0           0  AVTPMSADQLALFKSSWNTVKHNEVDILYAVFKANPDIQAKFPQFA...           1   \n",
      "1           1  MSWQAYVDDHLMCDVGDGNTPASAAIIGHDGSVWAQSANFPQLKPE...           1   \n",
      "\n",
      "                                               kmers  svmScore   E1   E2   E3  \\\n",
      "0  AVTPMS VTPMSA TPMSAD PMSADQ MSADQL SADQLA ADQL...  0.942371  0.0  0.0  0.0   \n",
      "1  MSWQAY SWQAYV WQAYVD QAYVDD AYVDDH YVDDHL VDDH...  1.032991  0.0  0.0  0.0   \n",
      "\n",
      "    E4   E5  \n",
      "0  0.0  0.0  \n",
      "1  0.0  0.0  \n"
     ]
    }
   ],
   "source": [
    "print(dataFrame.head(n=2))\n",
    "for i in range(5):\n",
    "    dataFrame['E' + str(i+1)] = 0.0\n",
    "print(dataFrame.head(n=2))"
   ]
  },
  {
   "cell_type": "code",
   "execution_count": 15,
   "metadata": {},
   "outputs": [
    {
     "name": "stdout",
     "output_type": "stream",
     "text": [
      "   Unnamed: 0                                           Sequence  isAllergen  \\\n",
      "0           0  AVTPMSADQLALFKSSWNTVKHNEVDILYAVFKANPDIQAKFPQFA...           1   \n",
      "1           1  MSWQAYVDDHLMCDVGDGNTPASAAIIGHDGSVWAQSANFPQLKPE...           1   \n",
      "\n",
      "                                               kmers  svmScore     E1      E2  \\\n",
      "0  AVTPMS VTPMSA TPMSAD PMSADQ MSADQL SADQLA ADQL...  0.942371  1.180   2.805   \n",
      "1  MSWQAY SWQAYV WQAYVD QAYVDD AYVDDH YVDDHL VDDH...  1.032991  3.133  11.204   \n",
      "\n",
      "       E3     E4     E5  \n",
      "0 -11.197 -7.499  5.731  \n",
      "1  -8.119 -4.692  4.117  \n",
      "      Unnamed: 0                                           Sequence  \\\n",
      "4427        2425  QQIPRDVQQCCNQLEQIQDPQCRCEGLMKVVQQEEQTGKVQGRQRQ...   \n",
      "4428        2426  MADQLTEDQISEFKEAFSLFDKDGDGCITTKELGTVMRSLGQNPTE...   \n",
      "\n",
      "      isAllergen                                              kmers  svmScore  \\\n",
      "4427          -1  QQIPRD QIPRDV IPRDVQ PRDVQQ RDVQQC DVQQCC VQQC... -0.709649   \n",
      "4428          -1  MADQLT ADQLTE DQLTED QLTEDQ LTEDQI TEDQIS EDQI... -1.000019   \n",
      "\n",
      "         E1     E2      E3     E4     E5  \n",
      "4427  3.584 -2.042  -2.085 -0.212 -3.482  \n",
      "4428  7.171 -2.144 -14.781 -0.741  6.970  \n"
     ]
    }
   ],
   "source": [
    "# Calculate E1~5 values from sequences\n",
    "acids = ['A', 'R', 'N', 'D', 'C', 'Q', 'E', 'G', 'H', 'I', 'L', 'K', 'M', 'F', 'P', 'S', 'T', 'W', 'Y', 'V']\n",
    "Es= [\n",
    "    [0.008, 0.171, 0.255, 0.303, -0.132, 0.149, 0.221, 0.218, 0.023, -0.353, -.267, .243, -0.239, -0.329, .173, .199, .068, -0.296, -0.141, -0.274],\n",
    "    [0.134, -0.361, 0.038, -0.057, 0.174, -0.184, -0.28, 0.562, -0.177, 0.071, 0.018, -0.339, -0.141, -0.023, 0.286, 0.238, 0.147, -0.186, -0.057, 0.136],\n",
    "    [-0.475, 0.107, 0.117, -0.014, 0.07, 0.03, -0.315, -0.024, 0.041, -0.088, -0.265, -0.044, -0.155, 0.072, 0.407, -0.015, -0.015, 0.389, 0.425, -0.187],\n",
    "    [-0.039, -0.258, 0.118, 0.225, 0.565, 0.035, 0.157, 0.018, 0.28, -0.195, -0.274, -0.325, 0.321, -0.002, -0.215, -0.068, -0.132, 0.083, -0.096, -0.196],\n",
    "    [0.181, -0.364, -0.055, 0.156, -0.374, -0.112, 0.303, 0.106, -0.021, -0.107, 0.206, -0.027, 0.077, 0.208, 0.384, -0.196, -0.274, 0.297, -0.091, -0.299]\n",
    "]\n",
    "\n",
    "def calc(seq, sequenceIndex):\n",
    "    for e in range(0, 5):\n",
    "        total = 0.0\n",
    "        for acidIdx in range(len(acids)):\n",
    "            c = acids[acidIdx]\n",
    "            cnt = seq.count(c)\n",
    "            total += cnt * Es[e][acidIdx]\n",
    "        dataFrame.at[sequenceIndex,'E'+str(e+1)] = total\n",
    "\n",
    "for sequenceIndex in range(len(dataFrame)):\n",
    "    calc(dataFrame.iloc[sequenceIndex][\"Sequence\"], sequenceIndex)\n",
    "\n",
    "print(dataFrame.head(n = 2))\n",
    "print(dataFrame.tail(n = 2))"
   ]
  },
  {
   "cell_type": "code",
   "execution_count": 16,
   "metadata": {},
   "outputs": [
    {
     "name": "stdout",
     "output_type": "stream",
     "text": [
      "   Unnamed: 0                                           Sequence  isAllergen  \\\n",
      "0           0  AVTPMSADQLALFKSSWNTVKHNEVDILYAVFKANPDIQAKFPQFA...           1   \n",
      "1           1  MSWQAYVDDHLMCDVGDGNTPASAAIIGHDGSVWAQSANFPQLKPE...           1   \n",
      "\n",
      "                                               kmers  svmScore     E1      E2  \\\n",
      "0  AVTPMS VTPMSA TPMSAD PMSADQ MSADQL SADQLA ADQL...  0.942371  1.180   2.805   \n",
      "1  MSWQAY SWQAYV WQAYVD QAYVDD AYVDDH YVDDHL VDDH...  1.032991  3.133  11.204   \n",
      "\n",
      "       E3     E4     E5   D1   D2   D3   D4   D5   D6   D7   D8  \n",
      "0 -11.197 -7.499  5.731  0.0  0.0  0.0  0.0  0.0  0.0  0.0  0.0  \n",
      "1  -8.119 -4.692  4.117  0.0  0.0  0.0  0.0  0.0  0.0  0.0  0.0  \n"
     ]
    }
   ],
   "source": [
    "for i in range(8):\n",
    "    dataFrame['D' + str(i+1)] = 0.0\n",
    "print(dataFrame.head(n=2))"
   ]
  },
  {
   "cell_type": "code",
   "execution_count": 17,
   "metadata": {},
   "outputs": [
    {
     "name": "stdout",
     "output_type": "stream",
     "text": [
      "   Unnamed: 0                                           Sequence  isAllergen  \\\n",
      "0           0  AVTPMSADQLALFKSSWNTVKHNEVDILYAVFKANPDIQAKFPQFA...           1   \n",
      "1           1  MSWQAYVDDHLMCDVGDGNTPASAAIIGHDGSVWAQSANFPQLKPE...           1   \n",
      "\n",
      "                                               kmers  svmScore     E1      E2  \\\n",
      "0  AVTPMS VTPMSA TPMSAD PMSADQ MSADQL SADQLA ADQL...  0.942371  1.180   2.805   \n",
      "1  MSWQAY SWQAYV WQAYVD QAYVDD AYVDDH YVDDHL VDDH...  1.032991  3.133  11.204   \n",
      "\n",
      "       E3     E4     E5       D1       D2       D3       D4      D5        D6  \\\n",
      "0 -11.197 -7.499  5.731  143.180  153.931  142.874  143.452  133.35  142.1784   \n",
      "1  -8.119 -4.692  4.117  118.919  133.124  112.737  118.193  112.88  111.2361   \n",
      "\n",
      "       D7      D8  \n",
      "0  80.919  45.545  \n",
      "1  69.721  40.458  \n",
      "      Unnamed: 0                                           Sequence  \\\n",
      "4427        2425  QQIPRDVQQCCNQLEQIQDPQCRCEGLMKVVQQEEQTGKVQGRQRQ...   \n",
      "4428        2426  MADQLTEDQISEFKEAFSLFDKDGDGCITTKELGTVMRSLGQNPTE...   \n",
      "\n",
      "      isAllergen                                              kmers  svmScore  \\\n",
      "4427          -1  QQIPRD QIPRDV IPRDVQ PRDVQQ RDVQQC DVQQCC VQQC... -0.709649   \n",
      "4428          -1  MADQLT ADQLTE DQLTED QLTEDQ LTEDQI TEDQIS EDQI... -1.000019   \n",
      "\n",
      "         E1     E2      E3     E4     E5       D1       D2       D3       D4  \\\n",
      "4427  3.584 -2.042  -2.085 -0.212 -3.482   68.437   74.676   48.636   79.215   \n",
      "4428  7.171 -2.144 -14.781 -0.741  6.970  142.545  163.188  119.640  148.922   \n",
      "\n",
      "          D5        D6      D7      D8  \n",
      "4427   68.74   67.6403  38.433  22.697  \n",
      "4428  144.31  140.8031  77.229  46.636  \n"
     ]
    }
   ],
   "source": [
    "# Calculate D1~8 values from sequences\n",
    "Ds= [\n",
    "[0.651, 1.272, 0.965, 0.972, 0.885, 1.068, 1.075, 0.548, 1.133, 0.958, 0.958, 1.068, 1.09, 1.207, 0.841, 0.768, 0.87, 1.492, 1.324, 0.856],\n",
    "[0.973, 1.261, 1.393, 1.562, 0.661, 1.261, 1.477, 1.081, 1.249, 0.625, 0.589, 1.357, 0.685, 0.625, 0.961, 1.105, 1.033, 0.649, 0.745, 0.709],\n",
    "[0.614, 0.6, 0.063, 0.466, 1.072, 0, 0.473, 0.071, 0.614, 2.222, 1.531, 1.157, 1.178, 2.025, 1.954, 0.049, 0.049, 2.66, 1.884, 1.319],\n",
    "[0.57, 2.052, 1.437, 1.14, 0.433, 1.619, 1.117, 0.525, 0.981, 0.41, 0.525, 2.212, 0.707, 0.547, 1.14, 1.003, 1.072, 0.73, 1.368, 0.41],\n",
    "[0.78, 1.58, 1.2, 1.35, 0.55, 1.19, 1.45, 0.68, 0.99, 0.47, 0.56, 1.1, 0.66, 0.47, 0.69, 1, 1.05, 0.7, 1, 0.51],\n",
    "[0.3634, 1.9266, 0.9274, 0.8575, 0.6683, 0.997, 1.1128, 0.2343, 1.0631, 0.9845, 1.1486, 1.5369, 1.0385, 1.3731, 0.5536, 0.4656, 0.6918, 2.3415, 1.6385, 0.7066],\n",
    "[0.443, 0.798, 0.497, 0.429, 0.499, 0.584, 0.404, 0.542, 0.759, 0.582, 0.521, 0.812, 0.461, 0.579, 0.487, 0.391, 0.485, 0.641, 0.662, 0.51],\n",
    "[0.233, 0.313, 0.296, 0.37, 0.253, 0.381, 0.326, 0.322, 0.274, 0.266, 0.337, 0.334, 0.294, 0.271, 0.291, 0.281, 0.307, 0.297, 0.284, 0.298]\n",
    "]\n",
    "\n",
    "def calc(seq, sequenceIndex):\n",
    "    for e in range(0, 8):\n",
    "        total = 0.0\n",
    "        for acidIdx in range(len(acids)):\n",
    "            c = acids[acidIdx]\n",
    "            cnt = seq.count(c)\n",
    "            total += cnt * Ds[e][acidIdx]\n",
    "        dataFrame.at[sequenceIndex,'D'+str(e+1)] = total\n",
    "\n",
    "for sequenceIndex in range(len(dataFrame)):\n",
    "    calc(dataFrame.iloc[sequenceIndex][\"Sequence\"], sequenceIndex)\n",
    "\n",
    "print(dataFrame.head(n = 2))\n",
    "print(dataFrame.tail(n = 2))"
   ]
  },
  {
   "cell_type": "code",
   "execution_count": 18,
   "metadata": {},
   "outputs": [],
   "source": [
    "X_ann = dataFrame[['E1', 'E2', 'E3', 'E4', 'E5','svmScore']]\n",
    "y_ann = y\n",
    "X_train_ann, X_test_ann, y_train_ann, y_test_ann = train_test_split(X_ann, y_ann, test_size=0.33, random_state=42)"
   ]
  },
  {
   "cell_type": "code",
   "execution_count": 19,
   "metadata": {},
   "outputs": [
    {
     "data": {
      "text/plain": [
       "MLPClassifier(hidden_layer_sizes=(4, 2, 5), max_iter=1000)"
      ]
     },
     "execution_count": 19,
     "metadata": {},
     "output_type": "execute_result"
    }
   ],
   "source": [
    "from sklearn.neural_network import MLPClassifier\n",
    "mlp = MLPClassifier(hidden_layer_sizes=(4,2,5), activation='relu', solver='adam', max_iter=1000)\n",
    "mlp.fit(X_train_ann, y_train_ann)"
   ]
  },
  {
   "cell_type": "code",
   "execution_count": 20,
   "metadata": {},
   "outputs": [
    {
     "name": "stdout",
     "output_type": "stream",
     "text": [
      "[[728  41]\n",
      " [ 94 599]]\n"
     ]
    },
    {
     "data": {
      "text/plain": [
       "0.9076607387140903"
      ]
     },
     "execution_count": 20,
     "metadata": {},
     "output_type": "execute_result"
    }
   ],
   "source": [
    "from sklearn.metrics import confusion_matrix, accuracy_score\n",
    "predict_ann__ = mlp.predict(X_test_ann)\n",
    "\n",
    "cm = confusion_matrix(y_test_ann, predict_ann__)\n",
    "print(cm)\n",
    "accuracy_score(y_test_ann, predict_ann__)"
   ]
  },
  {
   "cell_type": "code",
   "execution_count": 42,
   "metadata": {},
   "outputs": [
    {
     "name": "stdout",
     "output_type": "stream",
     "text": [
      "[[738  31]\n",
      " [ 43 650]]\n",
      "(4, 7, 2) 0.9493844049247606\n"
     ]
    }
   ],
   "source": [
    "best_acc = 0\n",
    "best_spec = (0, 0, 0)\n",
    "bestMlp = MLPClassifier()\n",
    "\n",
    "for i in range(1, 15):\n",
    "    for j in range(1, 15):\n",
    "        for k in range(1, 15):\n",
    "            mlp = MLPClassifier(hidden_layer_sizes=(i,j,k), activation='relu', solver='adam', max_iter=1000)\n",
    "            mlp.fit(X_train_ann, y_train_ann)\n",
    "            predict_ann__ = mlp.predict(X_test_ann)\n",
    "            \n",
    "            acc = accuracy_score(y_test_ann, predict_ann__)\n",
    "            if acc > best_acc:\n",
    "                best_acc = acc\n",
    "                best_spec = (i, j, k)\n",
    "                cm = confusion_matrix(y_test_ann, predict_ann__)\n",
    "                bestMlp = mlp\n",
    "print(cm)\n",
    "print(best_spec, best_acc)"
   ]
  },
  {
   "cell_type": "code",
   "execution_count": null,
   "metadata": {},
   "outputs": [],
   "source": [
    "from sklearn.model_selection import StratifiedKFold\n",
    "from sklearn.model_selection import KFold\n",
    "from sklearn.model_selection import cross_val_score\n",
    "\n",
    "# for n in range(5):\n",
    "strat_k_fold = StratifiedKFold(n_splits=2, shuffle=True, random_state=1)\n",
    "ac = cross_val_score(bestMlp, X = X, y = y, cv = strat_k_fold)\n",
    "print(ac.mean())"
   ]
  },
  {
   "cell_type": "code",
   "execution_count": null,
   "metadata": {},
   "outputs": [],
   "source": []
  }
 ],
 "metadata": {
  "accelerator": "TPU",
  "colab": {
   "collapsed_sections": [],
   "name": "Allerhybrid.ipynb",
   "provenance": []
  },
  "kernelspec": {
   "display_name": "Python 3 (ipykernel)",
   "language": "python",
   "name": "python3"
  },
  "language_info": {
   "codemirror_mode": {
    "name": "ipython",
    "version": 3
   },
   "file_extension": ".py",
   "mimetype": "text/x-python",
   "name": "python",
   "nbconvert_exporter": "python",
   "pygments_lexer": "ipython3",
   "version": "3.9.6"
  }
 },
 "nbformat": 4,
 "nbformat_minor": 4
}
